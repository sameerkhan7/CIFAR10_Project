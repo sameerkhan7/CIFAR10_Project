{
 "cells": [
  {
   "cell_type": "markdown",
   "id": "220bb2c5-729c-4d13-a648-b7dd63ad9689",
   "metadata": {},
   "source": [
    "# ViT Transformer on CIFAR10 Dataset\n",
    "\n",
    "## Libraries"
   ]
  },
  {
   "cell_type": "code",
   "execution_count": 36,
   "id": "9a63c85f-d8f4-4be7-ac91-d6930b516dcb",
   "metadata": {},
   "outputs": [
    {
     "name": "stdout",
     "output_type": "stream",
     "text": [
      "Device: cuda:0\n"
     ]
    }
   ],
   "source": [
    "import torch\n",
    "import torchvision.datasets as datasets\n",
    "import torch.nn as nn\n",
    "from torch.utils.data import DataLoader\n",
    "from torchvision import transforms as tfs\n",
    "from transformers import ViTForImageClassification, ViTConfig\n",
    "from tqdm.notebook import tqdm\n",
    "import matplotlib.pyplot as plt\n",
    "import numpy as np\n",
    "import random\n",
    "\n",
    "device = torch.device(\"cuda:0\" if torch.cuda.is_available() else \"cpu\")\n",
    "print(\"Device:\", device) # cuda?"
   ]
  },
  {
   "cell_type": "markdown",
   "id": "87361b42-04c3-4d6a-bc9c-de719e6e5ea7",
   "metadata": {},
   "source": [
    "## Scratch ViT Transformer Model\n",
    "\n",
    "### Load Data and Augmentations"
   ]
  },
  {
   "cell_type": "code",
   "execution_count": 5,
   "id": "ddfcca05-064a-431f-9974-62cb82d4554f",
   "metadata": {},
   "outputs": [],
   "source": [
    "def set_seed(seed):\n",
    "    '''\n",
    "    Load a random seed\n",
    "    '''\n",
    "    random.seed(seed)\n",
    "    np.random.seed(seed)\n",
    "    torch.manual_seed(seed)\n",
    "\n",
    "def get_data(download_data, batch_size, image_size):\n",
    "    '''\n",
    "    Download CIFAR-10 Dataset into train and test splits. Create dataloaders for data.\n",
    "    '''\n",
    "    print(\"Downloading Dataset...\")\n",
    "    \n",
    "    train_transform = tfs.Compose([\n",
    "        tfs.ToTensor(),\n",
    "        tfs.RandomHorizontalFlip(),\n",
    "        tfs.RandomCrop(32, padding=4),\n",
    "        tfs.Normalize((0.4914, 0.4822, 0.4465), (0.2023, 0.1994, 0.2010)),\n",
    "        tfs.Resize((image_size, image_size))\n",
    "    ]) \n",
    "    test_transform = tfs.Compose([\n",
    "        tfs.ToTensor(),\n",
    "        tfs.Resize((image_size, image_size)),\n",
    "        tfs.Normalize((0.4914, 0.4822, 0.4465), (0.2023, 0.1994, 0.2010))\n",
    "    ]) \n",
    "                                 \n",
    "    data_train = datasets.CIFAR10(root='./data', train=True, download=download_data, transform=train_transform)\n",
    "    data_test = datasets.CIFAR10(root='./data', train=False, download=download_data, transform=test_transform)\n",
    "    \n",
    "    train_loader = DataLoader(data_train, batch_size=batch_size,shuffle=True, num_workers=2)\n",
    "    test_loader = DataLoader(data_test, batch_size=batch_size,shuffle=False, num_workers=2)\n",
    "    print(\"Dataset Downloaded!\")\n",
    "    \n",
    "    return train_loader, test_loader"
   ]
  },
  {
   "cell_type": "markdown",
   "id": "d822cd04-4235-428c-88c0-8074839db8d8",
   "metadata": {},
   "source": [
    "### Define a basic ViT Model\n",
    "\n",
    "Uses configurable ViT function from HuggingFace. Changed the input image size and output class size to fit CIFAR10 data and also made the model smaller (less hidden layers) to speed up training for smaller images."
   ]
  },
  {
   "cell_type": "code",
   "execution_count": 10,
   "id": "8352f9b0-d2fc-44f6-9585-adae193d7d59",
   "metadata": {},
   "outputs": [],
   "source": [
    "def create_ViTModel():\n",
    "    '''\n",
    "    Smaller Version of ViT model with accomodations for CIFAR-10 data\n",
    "    '''\n",
    "    image_size = 32 # image size\n",
    "    patch_size = 4 # patch size for encoding\n",
    "    num_classes = 10 # num of classes\n",
    "    \n",
    "    #ViT model for CIFAR-10\n",
    "    config = ViTConfig(\n",
    "        image_size=image_size,  # Input image size\n",
    "        patch_size=patch_size,  # Patch size for the 32x32 images\n",
    "        num_labels=num_classes,  # Number of output classes\n",
    "        hidden_size=256,  # Hidden size (smaller model for smaller images)\n",
    "        num_hidden_layers=6,  # Fewer layers, since the image size is smaller\n",
    "        num_attention_heads=8,  # Number of attention heads\n",
    "        intermediate_size=512,  # Intermediate size of feedforward network\n",
    "        hidden_dropout_prob=0.0,  # Dropout probability\n",
    "        attention_probs_dropout_prob=0.0,  # Dropout on attention scores\n",
    "    )\n",
    "    \n",
    "    model = ViTForImageClassification(config)\n",
    "    \n",
    "    return model"
   ]
  },
  {
   "cell_type": "markdown",
   "id": "e8aa68c0-fe68-4fe5-b292-27cef089c47c",
   "metadata": {},
   "source": [
    "### Train and Test Model Functions"
   ]
  },
  {
   "cell_type": "code",
   "execution_count": 28,
   "id": "c8b862d9-97fd-48d3-970a-369fdbedc0e1",
   "metadata": {},
   "outputs": [],
   "source": [
    "def train_model(train_data, test_data, model, optimizer, criterion, epochs):\n",
    "    print(\"Starting Training...\")\n",
    "    model.train()\n",
    "    batch_losses = []\n",
    "    epoch_losses = []\n",
    "    test_accuracies = []\n",
    "    num_batches = len(train_data) # num of batches per epoch\n",
    "    \n",
    "    for epoch in range(epochs):\n",
    "        running_loss = 0.0\n",
    "        for batch_idx, (data, target) in tqdm(enumerate(train_data)):\n",
    "            data, target = data.to(device), target.to(device)\n",
    "            optimizer.zero_grad()\n",
    "            output = model(data)\n",
    "            loss = criterion(output.logits, target)\n",
    "            loss.backward()\n",
    "            optimizer.step()\n",
    "            \n",
    "            running_loss += loss.item() #running loss for epoch loss            \n",
    "                \n",
    "        print(f'Epoch: {epoch + 1}, Average Training Loss: {running_loss/num_batches}' )\n",
    "        # get average loss over epoch (scratch only)\n",
    "        epoch_losses.append([epoch, running_loss/num_batches])\n",
    "        accuracy, _ = test_model(test_data, model)\n",
    "        test_accuracies.append(accuracy)\n",
    "    \n",
    "    print(\"Finished Training!\")\n",
    "    return model, batch_losses, epoch_losses, test_accuracies"
   ]
  },
  {
   "cell_type": "code",
   "execution_count": 27,
   "id": "59699517-ba5a-4851-80ba-16008afbf89d",
   "metadata": {},
   "outputs": [],
   "source": [
    "def test_model(test_data, model):\n",
    "    print(\"Testing Model...\")\n",
    "    correct = 0\n",
    "    predictions = []\n",
    "    with torch.no_grad():\n",
    "        for batch_idx, (data, target) in tqdm(enumerate(test_data)):\n",
    "            data, target = data.to(device), target.to(device)\n",
    "            outputs = model(data)\n",
    "            _, predicted = torch.max(outputs.logits, 1)\n",
    "            predictions.append(predicted)\n",
    "            correct += (predicted == target).sum().item()\n",
    "\n",
    "    accuracy = 100 * correct / 10000\n",
    "    print(f'Test Accuracy: {accuracy}%' )\n",
    "    \n",
    "    return accuracy, predictions"
   ]
  },
  {
   "cell_type": "code",
   "execution_count": 72,
   "id": "c18aa3bd-a0ce-4302-bbcb-060c8fcec05a",
   "metadata": {},
   "outputs": [],
   "source": [
    "# confusion matrix creator\n",
    "def confusion_matrix(classes, predicted_vals, test_data):\n",
    "    num_classes = len(classes)\n",
    "    actuals = []\n",
    "    predictions = []\n",
    "    #need to unroll dataloader and predictions\n",
    "    for idx, (_, labels) in enumerate(test_data):\n",
    "        actuals.extend(labels.tolist())\n",
    "        predictions.extend(predicted_vals[idx])\n",
    "\n",
    "    #create matrix\n",
    "    mat = np.zeros((num_classes, num_classes))\n",
    "    #print(len(predictions), len(actuals))\n",
    "    for prediction, actual in zip(predictions, actuals):\n",
    "        mat[prediction,actual] += 1\n",
    "\n",
    "    #plot matrix\n",
    "    fig, (ax1) = plt.subplots(ncols=1, figsize=(10, 10))\n",
    "    ax1.matshow(mat)\n",
    "    \n",
    "    # add the title and label\n",
    "    ax1.set_title('Confusion Matrix')\n",
    "    ax1.set_xlabel('Actual Class')\n",
    "    ax1.set_ylabel('Predicted Class')\n",
    "    # set ticks to the classes\n",
    "    ax1.set_xticks(np.arange(num_classes), labels=classes)\n",
    "    ax1.set_yticks(np.arange(num_classes), labels=classes)\n",
    "\n",
    "    for x in range(num_classes):\n",
    "        for y in range(num_classes):\n",
    "            ax1.annotate(int(mat[x,y]),xy=(x-0.2,y+0.1))\n",
    "            \n"
   ]
  },
  {
   "cell_type": "markdown",
   "id": "57389a71-0221-46c7-b4a8-2562f4d9d348",
   "metadata": {},
   "source": [
    "### Run Training from scratch model"
   ]
  },
  {
   "cell_type": "code",
   "execution_count": 42,
   "id": "4d15b966-694d-4f2e-bdc3-7a0e3fa3df9c",
   "metadata": {},
   "outputs": [
    {
     "name": "stdout",
     "output_type": "stream",
     "text": [
      "Downloading Dataset...\n",
      "Dataset Downloaded!\n"
     ]
    }
   ],
   "source": [
    "# Get dataloaders\n",
    "batch_size = 100\n",
    "image_size = 32\n",
    "# set download data to true if not downloaded already\n",
    "train_loader, test_loader = get_data(download_data = False, batch_size = batch_size, image_size = image_size)"
   ]
  },
  {
   "cell_type": "code",
   "execution_count": 14,
   "id": "9b8476da-0119-4415-a675-5c623495dd71",
   "metadata": {
    "scrolled": true
   },
   "outputs": [
    {
     "name": "stdout",
     "output_type": "stream",
     "text": [
      "Starting Training...\n"
     ]
    },
    {
     "name": "stderr",
     "output_type": "stream",
     "text": [
      "0it [00:00, ?it/s]C:\\Users\\samee\\miniconda3\\envs\\CUDA\\lib\\site-packages\\transformers\\models\\vit\\modeling_vit.py:252: UserWarning: 1Torch was not compiled with flash attention. (Triggered internally at C:\\cb\\pytorch_1000000000000\\work\\aten\\src\\ATen\\native\\transformers\\cuda\\sdp_utils.cpp:555.)\n",
      "  context_layer = torch.nn.functional.scaled_dot_product_attention(\n",
      "500it [00:52,  9.49it/s]\n"
     ]
    },
    {
     "name": "stdout",
     "output_type": "stream",
     "text": [
      "Epoch: 1, Average Training Loss: 1.7788601195812226\n",
      "Testing Model...\n"
     ]
    },
    {
     "name": "stderr",
     "output_type": "stream",
     "text": [
      "100it [00:03, 27.95it/s]\n"
     ]
    },
    {
     "name": "stdout",
     "output_type": "stream",
     "text": [
      "Test Accuracy: 41.12%\n"
     ]
    },
    {
     "name": "stderr",
     "output_type": "stream",
     "text": [
      "500it [00:46, 10.79it/s]\n"
     ]
    },
    {
     "name": "stdout",
     "output_type": "stream",
     "text": [
      "Epoch: 2, Average Training Loss: 1.435203596830368\n",
      "Testing Model...\n"
     ]
    },
    {
     "name": "stderr",
     "output_type": "stream",
     "text": [
      "100it [00:03, 28.85it/s]\n"
     ]
    },
    {
     "name": "stdout",
     "output_type": "stream",
     "text": [
      "Test Accuracy: 51.06%\n"
     ]
    },
    {
     "name": "stderr",
     "output_type": "stream",
     "text": [
      "500it [00:47, 10.57it/s]\n"
     ]
    },
    {
     "name": "stdout",
     "output_type": "stream",
     "text": [
      "Epoch: 3, Average Training Loss: 1.2614979430437088\n",
      "Testing Model...\n"
     ]
    },
    {
     "name": "stderr",
     "output_type": "stream",
     "text": [
      "100it [00:03, 28.59it/s]\n"
     ]
    },
    {
     "name": "stdout",
     "output_type": "stream",
     "text": [
      "Test Accuracy: 57.0%\n"
     ]
    },
    {
     "name": "stderr",
     "output_type": "stream",
     "text": [
      "500it [00:48, 10.37it/s]\n"
     ]
    },
    {
     "name": "stdout",
     "output_type": "stream",
     "text": [
      "Epoch: 4, Average Training Loss: 1.1591008551120758\n",
      "Testing Model...\n"
     ]
    },
    {
     "name": "stderr",
     "output_type": "stream",
     "text": [
      "100it [00:03, 25.28it/s]\n"
     ]
    },
    {
     "name": "stdout",
     "output_type": "stream",
     "text": [
      "Test Accuracy: 57.42%\n"
     ]
    },
    {
     "name": "stderr",
     "output_type": "stream",
     "text": [
      "500it [00:49, 10.19it/s]\n"
     ]
    },
    {
     "name": "stdout",
     "output_type": "stream",
     "text": [
      "Epoch: 5, Average Training Loss: 1.085102244734764\n",
      "Testing Model...\n"
     ]
    },
    {
     "name": "stderr",
     "output_type": "stream",
     "text": [
      "100it [00:03, 28.18it/s]\n"
     ]
    },
    {
     "name": "stdout",
     "output_type": "stream",
     "text": [
      "Test Accuracy: 62.07%\n"
     ]
    },
    {
     "name": "stderr",
     "output_type": "stream",
     "text": [
      "500it [00:47, 10.46it/s]\n"
     ]
    },
    {
     "name": "stdout",
     "output_type": "stream",
     "text": [
      "Epoch: 6, Average Training Loss: 1.0219123470783233\n",
      "Testing Model...\n"
     ]
    },
    {
     "name": "stderr",
     "output_type": "stream",
     "text": [
      "100it [00:03, 28.73it/s]\n"
     ]
    },
    {
     "name": "stdout",
     "output_type": "stream",
     "text": [
      "Test Accuracy: 64.83%\n"
     ]
    },
    {
     "name": "stderr",
     "output_type": "stream",
     "text": [
      "500it [00:48, 10.33it/s]\n"
     ]
    },
    {
     "name": "stdout",
     "output_type": "stream",
     "text": [
      "Epoch: 7, Average Training Loss: 0.9738837976455689\n",
      "Testing Model...\n"
     ]
    },
    {
     "name": "stderr",
     "output_type": "stream",
     "text": [
      "100it [00:03, 26.68it/s]\n"
     ]
    },
    {
     "name": "stdout",
     "output_type": "stream",
     "text": [
      "Test Accuracy: 67.73%\n"
     ]
    },
    {
     "name": "stderr",
     "output_type": "stream",
     "text": [
      "500it [00:49, 10.19it/s]\n"
     ]
    },
    {
     "name": "stdout",
     "output_type": "stream",
     "text": [
      "Epoch: 8, Average Training Loss: 0.9227694236040115\n",
      "Testing Model...\n"
     ]
    },
    {
     "name": "stderr",
     "output_type": "stream",
     "text": [
      "100it [00:03, 27.12it/s]\n"
     ]
    },
    {
     "name": "stdout",
     "output_type": "stream",
     "text": [
      "Test Accuracy: 67.2%\n"
     ]
    },
    {
     "name": "stderr",
     "output_type": "stream",
     "text": [
      "500it [00:49, 10.01it/s]\n"
     ]
    },
    {
     "name": "stdout",
     "output_type": "stream",
     "text": [
      "Epoch: 9, Average Training Loss: 0.8707098126411438\n",
      "Testing Model...\n"
     ]
    },
    {
     "name": "stderr",
     "output_type": "stream",
     "text": [
      "100it [00:03, 27.48it/s]\n"
     ]
    },
    {
     "name": "stdout",
     "output_type": "stream",
     "text": [
      "Test Accuracy: 68.93%\n"
     ]
    },
    {
     "name": "stderr",
     "output_type": "stream",
     "text": [
      "500it [00:49, 10.02it/s]\n"
     ]
    },
    {
     "name": "stdout",
     "output_type": "stream",
     "text": [
      "Epoch: 10, Average Training Loss: 0.8369457297325135\n",
      "Testing Model...\n"
     ]
    },
    {
     "name": "stderr",
     "output_type": "stream",
     "text": [
      "100it [00:03, 26.90it/s]\n"
     ]
    },
    {
     "name": "stdout",
     "output_type": "stream",
     "text": [
      "Test Accuracy: 70.75%\n"
     ]
    },
    {
     "name": "stderr",
     "output_type": "stream",
     "text": [
      "500it [00:49, 10.04it/s]\n"
     ]
    },
    {
     "name": "stdout",
     "output_type": "stream",
     "text": [
      "Epoch: 11, Average Training Loss: 0.8038960976600646\n",
      "Testing Model...\n"
     ]
    },
    {
     "name": "stderr",
     "output_type": "stream",
     "text": [
      "100it [00:03, 25.89it/s]\n"
     ]
    },
    {
     "name": "stdout",
     "output_type": "stream",
     "text": [
      "Test Accuracy: 71.57%\n"
     ]
    },
    {
     "name": "stderr",
     "output_type": "stream",
     "text": [
      "500it [00:50,  9.89it/s]\n"
     ]
    },
    {
     "name": "stdout",
     "output_type": "stream",
     "text": [
      "Epoch: 12, Average Training Loss: 0.7656584465503693\n",
      "Testing Model...\n"
     ]
    },
    {
     "name": "stderr",
     "output_type": "stream",
     "text": [
      "100it [00:03, 26.58it/s]\n"
     ]
    },
    {
     "name": "stdout",
     "output_type": "stream",
     "text": [
      "Test Accuracy: 72.14%\n"
     ]
    },
    {
     "name": "stderr",
     "output_type": "stream",
     "text": [
      "500it [00:51,  9.68it/s]\n"
     ]
    },
    {
     "name": "stdout",
     "output_type": "stream",
     "text": [
      "Epoch: 13, Average Training Loss: 0.7427107385396957\n",
      "Testing Model...\n"
     ]
    },
    {
     "name": "stderr",
     "output_type": "stream",
     "text": [
      "100it [00:03, 28.20it/s]\n"
     ]
    },
    {
     "name": "stdout",
     "output_type": "stream",
     "text": [
      "Test Accuracy: 72.68%\n"
     ]
    },
    {
     "name": "stderr",
     "output_type": "stream",
     "text": [
      "500it [00:53,  9.38it/s]\n"
     ]
    },
    {
     "name": "stdout",
     "output_type": "stream",
     "text": [
      "Epoch: 14, Average Training Loss: 0.7063895908594131\n",
      "Testing Model...\n"
     ]
    },
    {
     "name": "stderr",
     "output_type": "stream",
     "text": [
      "100it [00:03, 27.49it/s]\n"
     ]
    },
    {
     "name": "stdout",
     "output_type": "stream",
     "text": [
      "Test Accuracy: 74.9%\n"
     ]
    },
    {
     "name": "stderr",
     "output_type": "stream",
     "text": [
      "500it [00:54,  9.25it/s]\n"
     ]
    },
    {
     "name": "stdout",
     "output_type": "stream",
     "text": [
      "Epoch: 15, Average Training Loss: 0.690698114156723\n",
      "Testing Model...\n"
     ]
    },
    {
     "name": "stderr",
     "output_type": "stream",
     "text": [
      "100it [00:03, 27.23it/s]\n"
     ]
    },
    {
     "name": "stdout",
     "output_type": "stream",
     "text": [
      "Test Accuracy: 72.99%\n"
     ]
    },
    {
     "name": "stderr",
     "output_type": "stream",
     "text": [
      "500it [00:53,  9.36it/s]\n"
     ]
    },
    {
     "name": "stdout",
     "output_type": "stream",
     "text": [
      "Epoch: 16, Average Training Loss: 0.6682174343466759\n",
      "Testing Model...\n"
     ]
    },
    {
     "name": "stderr",
     "output_type": "stream",
     "text": [
      "100it [00:03, 28.15it/s]\n"
     ]
    },
    {
     "name": "stdout",
     "output_type": "stream",
     "text": [
      "Test Accuracy: 74.29%\n"
     ]
    },
    {
     "name": "stderr",
     "output_type": "stream",
     "text": [
      "500it [00:51,  9.76it/s]\n"
     ]
    },
    {
     "name": "stdout",
     "output_type": "stream",
     "text": [
      "Epoch: 17, Average Training Loss: 0.6441955996155739\n",
      "Testing Model...\n"
     ]
    },
    {
     "name": "stderr",
     "output_type": "stream",
     "text": [
      "100it [00:03, 27.21it/s]\n"
     ]
    },
    {
     "name": "stdout",
     "output_type": "stream",
     "text": [
      "Test Accuracy: 76.23%\n"
     ]
    },
    {
     "name": "stderr",
     "output_type": "stream",
     "text": [
      "500it [00:52,  9.59it/s]\n"
     ]
    },
    {
     "name": "stdout",
     "output_type": "stream",
     "text": [
      "Epoch: 18, Average Training Loss: 0.6212761876583099\n",
      "Testing Model...\n"
     ]
    },
    {
     "name": "stderr",
     "output_type": "stream",
     "text": [
      "100it [00:03, 27.39it/s]\n"
     ]
    },
    {
     "name": "stdout",
     "output_type": "stream",
     "text": [
      "Test Accuracy: 76.67%\n"
     ]
    },
    {
     "name": "stderr",
     "output_type": "stream",
     "text": [
      "500it [00:51,  9.80it/s]\n"
     ]
    },
    {
     "name": "stdout",
     "output_type": "stream",
     "text": [
      "Epoch: 19, Average Training Loss: 0.6002607713341713\n",
      "Testing Model...\n"
     ]
    },
    {
     "name": "stderr",
     "output_type": "stream",
     "text": [
      "100it [00:03, 27.89it/s]\n"
     ]
    },
    {
     "name": "stdout",
     "output_type": "stream",
     "text": [
      "Test Accuracy: 76.96%\n"
     ]
    },
    {
     "name": "stderr",
     "output_type": "stream",
     "text": [
      "500it [00:51,  9.62it/s]\n"
     ]
    },
    {
     "name": "stdout",
     "output_type": "stream",
     "text": [
      "Epoch: 20, Average Training Loss: 0.5841266531944275\n",
      "Testing Model...\n"
     ]
    },
    {
     "name": "stderr",
     "output_type": "stream",
     "text": [
      "100it [00:03, 27.16it/s]\n"
     ]
    },
    {
     "name": "stdout",
     "output_type": "stream",
     "text": [
      "Test Accuracy: 76.45%\n"
     ]
    },
    {
     "name": "stderr",
     "output_type": "stream",
     "text": [
      "500it [00:52,  9.51it/s]\n"
     ]
    },
    {
     "name": "stdout",
     "output_type": "stream",
     "text": [
      "Epoch: 21, Average Training Loss: 0.5661093810200691\n",
      "Testing Model...\n"
     ]
    },
    {
     "name": "stderr",
     "output_type": "stream",
     "text": [
      "100it [00:03, 26.83it/s]\n"
     ]
    },
    {
     "name": "stdout",
     "output_type": "stream",
     "text": [
      "Test Accuracy: 76.92%\n"
     ]
    },
    {
     "name": "stderr",
     "output_type": "stream",
     "text": [
      "500it [00:51,  9.78it/s]\n"
     ]
    },
    {
     "name": "stdout",
     "output_type": "stream",
     "text": [
      "Epoch: 22, Average Training Loss: 0.5443105479478836\n",
      "Testing Model...\n"
     ]
    },
    {
     "name": "stderr",
     "output_type": "stream",
     "text": [
      "100it [00:03, 28.08it/s]\n"
     ]
    },
    {
     "name": "stdout",
     "output_type": "stream",
     "text": [
      "Test Accuracy: 77.88%\n"
     ]
    },
    {
     "name": "stderr",
     "output_type": "stream",
     "text": [
      "500it [00:50,  9.94it/s]\n"
     ]
    },
    {
     "name": "stdout",
     "output_type": "stream",
     "text": [
      "Epoch: 23, Average Training Loss: 0.5297250992059708\n",
      "Testing Model...\n"
     ]
    },
    {
     "name": "stderr",
     "output_type": "stream",
     "text": [
      "100it [00:03, 28.26it/s]\n"
     ]
    },
    {
     "name": "stdout",
     "output_type": "stream",
     "text": [
      "Test Accuracy: 77.72%\n"
     ]
    },
    {
     "name": "stderr",
     "output_type": "stream",
     "text": [
      "500it [00:50,  9.94it/s]\n"
     ]
    },
    {
     "name": "stdout",
     "output_type": "stream",
     "text": [
      "Epoch: 24, Average Training Loss: 0.508626264065504\n",
      "Testing Model...\n"
     ]
    },
    {
     "name": "stderr",
     "output_type": "stream",
     "text": [
      "100it [00:03, 27.32it/s]\n"
     ]
    },
    {
     "name": "stdout",
     "output_type": "stream",
     "text": [
      "Test Accuracy: 78.63%\n"
     ]
    },
    {
     "name": "stderr",
     "output_type": "stream",
     "text": [
      "500it [00:50,  9.92it/s]\n"
     ]
    },
    {
     "name": "stdout",
     "output_type": "stream",
     "text": [
      "Epoch: 25, Average Training Loss: 0.4941293298602104\n",
      "Testing Model...\n"
     ]
    },
    {
     "name": "stderr",
     "output_type": "stream",
     "text": [
      "100it [00:03, 27.79it/s]\n"
     ]
    },
    {
     "name": "stdout",
     "output_type": "stream",
     "text": [
      "Test Accuracy: 78.43%\n"
     ]
    },
    {
     "name": "stderr",
     "output_type": "stream",
     "text": [
      "500it [00:51,  9.79it/s]\n"
     ]
    },
    {
     "name": "stdout",
     "output_type": "stream",
     "text": [
      "Epoch: 26, Average Training Loss: 0.4798332377076149\n",
      "Testing Model...\n"
     ]
    },
    {
     "name": "stderr",
     "output_type": "stream",
     "text": [
      "100it [00:03, 26.30it/s]\n"
     ]
    },
    {
     "name": "stdout",
     "output_type": "stream",
     "text": [
      "Test Accuracy: 76.42%\n"
     ]
    },
    {
     "name": "stderr",
     "output_type": "stream",
     "text": [
      "500it [00:49, 10.01it/s]\n"
     ]
    },
    {
     "name": "stdout",
     "output_type": "stream",
     "text": [
      "Epoch: 27, Average Training Loss: 0.4567517488002777\n",
      "Testing Model...\n"
     ]
    },
    {
     "name": "stderr",
     "output_type": "stream",
     "text": [
      "100it [00:03, 27.09it/s]\n"
     ]
    },
    {
     "name": "stdout",
     "output_type": "stream",
     "text": [
      "Test Accuracy: 78.3%\n"
     ]
    },
    {
     "name": "stderr",
     "output_type": "stream",
     "text": [
      "500it [00:51,  9.63it/s]\n"
     ]
    },
    {
     "name": "stdout",
     "output_type": "stream",
     "text": [
      "Epoch: 28, Average Training Loss: 0.45092562824487686\n",
      "Testing Model...\n"
     ]
    },
    {
     "name": "stderr",
     "output_type": "stream",
     "text": [
      "100it [00:03, 27.04it/s]\n"
     ]
    },
    {
     "name": "stdout",
     "output_type": "stream",
     "text": [
      "Test Accuracy: 79.68%\n"
     ]
    },
    {
     "name": "stderr",
     "output_type": "stream",
     "text": [
      "500it [00:50,  9.93it/s]\n"
     ]
    },
    {
     "name": "stdout",
     "output_type": "stream",
     "text": [
      "Epoch: 29, Average Training Loss: 0.42978142020106314\n",
      "Testing Model...\n"
     ]
    },
    {
     "name": "stderr",
     "output_type": "stream",
     "text": [
      "100it [00:03, 28.96it/s]\n"
     ]
    },
    {
     "name": "stdout",
     "output_type": "stream",
     "text": [
      "Test Accuracy: 79.91%\n"
     ]
    },
    {
     "name": "stderr",
     "output_type": "stream",
     "text": [
      "500it [00:50,  9.99it/s]\n"
     ]
    },
    {
     "name": "stdout",
     "output_type": "stream",
     "text": [
      "Epoch: 30, Average Training Loss: 0.4150242710709572\n",
      "Testing Model...\n"
     ]
    },
    {
     "name": "stderr",
     "output_type": "stream",
     "text": [
      "100it [00:03, 28.85it/s]\n"
     ]
    },
    {
     "name": "stdout",
     "output_type": "stream",
     "text": [
      "Test Accuracy: 78.54%\n"
     ]
    },
    {
     "name": "stderr",
     "output_type": "stream",
     "text": [
      "500it [00:48, 10.25it/s]\n"
     ]
    },
    {
     "name": "stdout",
     "output_type": "stream",
     "text": [
      "Epoch: 31, Average Training Loss: 0.4032616263628006\n",
      "Testing Model...\n"
     ]
    },
    {
     "name": "stderr",
     "output_type": "stream",
     "text": [
      "100it [00:03, 29.13it/s]\n"
     ]
    },
    {
     "name": "stdout",
     "output_type": "stream",
     "text": [
      "Test Accuracy: 79.59%\n"
     ]
    },
    {
     "name": "stderr",
     "output_type": "stream",
     "text": [
      "500it [00:48, 10.27it/s]\n"
     ]
    },
    {
     "name": "stdout",
     "output_type": "stream",
     "text": [
      "Epoch: 32, Average Training Loss: 0.3846920526623726\n",
      "Testing Model...\n"
     ]
    },
    {
     "name": "stderr",
     "output_type": "stream",
     "text": [
      "100it [00:03, 28.74it/s]\n"
     ]
    },
    {
     "name": "stdout",
     "output_type": "stream",
     "text": [
      "Test Accuracy: 79.23%\n"
     ]
    },
    {
     "name": "stderr",
     "output_type": "stream",
     "text": [
      "500it [00:48, 10.28it/s]\n"
     ]
    },
    {
     "name": "stdout",
     "output_type": "stream",
     "text": [
      "Epoch: 33, Average Training Loss: 0.373200883358717\n",
      "Testing Model...\n"
     ]
    },
    {
     "name": "stderr",
     "output_type": "stream",
     "text": [
      "100it [00:03, 29.44it/s]\n"
     ]
    },
    {
     "name": "stdout",
     "output_type": "stream",
     "text": [
      "Test Accuracy: 79.59%\n"
     ]
    },
    {
     "name": "stderr",
     "output_type": "stream",
     "text": [
      "500it [00:48, 10.40it/s]\n"
     ]
    },
    {
     "name": "stdout",
     "output_type": "stream",
     "text": [
      "Epoch: 34, Average Training Loss: 0.3589352248311043\n",
      "Testing Model...\n"
     ]
    },
    {
     "name": "stderr",
     "output_type": "stream",
     "text": [
      "100it [00:03, 29.63it/s]\n"
     ]
    },
    {
     "name": "stdout",
     "output_type": "stream",
     "text": [
      "Test Accuracy: 79.81%\n"
     ]
    },
    {
     "name": "stderr",
     "output_type": "stream",
     "text": [
      "500it [00:48, 10.41it/s]\n"
     ]
    },
    {
     "name": "stdout",
     "output_type": "stream",
     "text": [
      "Epoch: 35, Average Training Loss: 0.3420868677794933\n",
      "Testing Model...\n"
     ]
    },
    {
     "name": "stderr",
     "output_type": "stream",
     "text": [
      "100it [00:03, 29.40it/s]\n"
     ]
    },
    {
     "name": "stdout",
     "output_type": "stream",
     "text": [
      "Test Accuracy: 79.62%\n"
     ]
    },
    {
     "name": "stderr",
     "output_type": "stream",
     "text": [
      "500it [00:47, 10.43it/s]\n"
     ]
    },
    {
     "name": "stdout",
     "output_type": "stream",
     "text": [
      "Epoch: 36, Average Training Loss: 0.329080348521471\n",
      "Testing Model...\n"
     ]
    },
    {
     "name": "stderr",
     "output_type": "stream",
     "text": [
      "100it [00:03, 28.49it/s]\n"
     ]
    },
    {
     "name": "stdout",
     "output_type": "stream",
     "text": [
      "Test Accuracy: 79.83%\n"
     ]
    },
    {
     "name": "stderr",
     "output_type": "stream",
     "text": [
      "500it [00:48, 10.40it/s]\n"
     ]
    },
    {
     "name": "stdout",
     "output_type": "stream",
     "text": [
      "Epoch: 37, Average Training Loss: 0.3167169889509678\n",
      "Testing Model...\n"
     ]
    },
    {
     "name": "stderr",
     "output_type": "stream",
     "text": [
      "100it [00:03, 28.53it/s]\n"
     ]
    },
    {
     "name": "stdout",
     "output_type": "stream",
     "text": [
      "Test Accuracy: 79.95%\n"
     ]
    },
    {
     "name": "stderr",
     "output_type": "stream",
     "text": [
      "500it [00:47, 10.57it/s]\n"
     ]
    },
    {
     "name": "stdout",
     "output_type": "stream",
     "text": [
      "Epoch: 38, Average Training Loss: 0.30500979387760163\n",
      "Testing Model...\n"
     ]
    },
    {
     "name": "stderr",
     "output_type": "stream",
     "text": [
      "100it [00:03, 28.88it/s]\n"
     ]
    },
    {
     "name": "stdout",
     "output_type": "stream",
     "text": [
      "Test Accuracy: 80.4%\n"
     ]
    },
    {
     "name": "stderr",
     "output_type": "stream",
     "text": [
      "500it [00:47, 10.58it/s]\n"
     ]
    },
    {
     "name": "stdout",
     "output_type": "stream",
     "text": [
      "Epoch: 39, Average Training Loss: 0.2922238664329052\n",
      "Testing Model...\n"
     ]
    },
    {
     "name": "stderr",
     "output_type": "stream",
     "text": [
      "100it [00:03, 28.08it/s]\n"
     ]
    },
    {
     "name": "stdout",
     "output_type": "stream",
     "text": [
      "Test Accuracy: 80.23%\n"
     ]
    },
    {
     "name": "stderr",
     "output_type": "stream",
     "text": [
      "500it [00:47, 10.42it/s]\n"
     ]
    },
    {
     "name": "stdout",
     "output_type": "stream",
     "text": [
      "Epoch: 40, Average Training Loss: 0.2737396823167801\n",
      "Testing Model...\n"
     ]
    },
    {
     "name": "stderr",
     "output_type": "stream",
     "text": [
      "100it [00:03, 28.39it/s]"
     ]
    },
    {
     "name": "stdout",
     "output_type": "stream",
     "text": [
      "Test Accuracy: 80.14%\n",
      "Finished Training!\n"
     ]
    },
    {
     "name": "stderr",
     "output_type": "stream",
     "text": [
      "\n"
     ]
    }
   ],
   "source": [
    "# Main \n",
    "# set the random seed\n",
    "seed = 42\n",
    "set_seed(seed)\n",
    "classes = ('plane', 'car', 'bird', 'cat','deer', 'dog', 'frog', 'horse', 'ship', 'truck')\n",
    "# hyperparameters\n",
    "epochs = 40\n",
    "lr = 1e-4\n",
    "#model\n",
    "model = create_ViTModel().to(device)\n",
    "optimizer = torch.optim.Adam(model.parameters(), lr=lr) # Adam \n",
    "criterion = nn.CrossEntropyLoss() \n",
    "# run training\n",
    "trained_model, batch_losses, epoch_losses, test_accuracies = train_model(train_loader, test_loader, model, optimizer, criterion, epochs)"
   ]
  },
  {
   "cell_type": "markdown",
   "id": "e935a76a-9eff-430a-a70c-dd4ef64a1203",
   "metadata": {},
   "source": [
    "### Evaluate Model\n",
    "\n",
    "Run test set on trained model and get loss and accuracy plots"
   ]
  },
  {
   "cell_type": "code",
   "execution_count": 43,
   "id": "b87c07fd-e6e7-4c1f-8c30-0dd7c38ba2e8",
   "metadata": {},
   "outputs": [
    {
     "name": "stdout",
     "output_type": "stream",
     "text": [
      "Testing Model...\n"
     ]
    },
    {
     "data": {
      "application/vnd.jupyter.widget-view+json": {
       "model_id": "9189af7406b84f7ca0b2bc90d1fd8af0",
       "version_major": 2,
       "version_minor": 0
      },
      "text/plain": [
       "0it [00:00, ?it/s]"
      ]
     },
     "metadata": {},
     "output_type": "display_data"
    },
    {
     "name": "stdout",
     "output_type": "stream",
     "text": [
      "Test Accuracy: 80.14%\n"
     ]
    }
   ],
   "source": [
    "# evaluate model on test set\n",
    "final_accuracy, predictions = test_model(test_loader, trained_model)"
   ]
  },
  {
   "cell_type": "code",
   "execution_count": 19,
   "id": "d81e888e-329e-4f3f-b508-10a46d9e6ebe",
   "metadata": {},
   "outputs": [
    {
     "data": {
      "image/png": "[encoded data removed]",
      "text/plain": [
       "<Figure size 1000x500 with 1 Axes>"
      ]
     },
     "metadata": {},
     "output_type": "display_data"
    },
    {
     "data": {
      "image/png": "[encoded data removed]",
      "text/plain": [
       "<Figure size 1000x500 with 1 Axes>"
      ]
     },
     "metadata": {},
     "output_type": "display_data"
    }
   ],
   "source": [
    "#Plot Training Loss\n",
    "plt.figure(figsize=(10, 5))\n",
    "plt.plot(np.array(epoch_losses)[:,0], np.array(epoch_losses)[:,1], label='Training Loss')\n",
    "plt.title('Training Loss over Batches')\n",
    "plt.xlabel('Batch')\n",
    "plt.ylabel('Loss')\n",
    "plt.legend()\n",
    "plt.grid(True)\n",
    "plt.show()\n",
    "\n",
    "# Plot Test Accuracy\n",
    "plt.figure(figsize=(10, 5))\n",
    "plt.plot(np.array(epoch_losses)[:,0], np.array(test_accuracies), label='Test Accuracy')\n",
    "plt.title('Test Accuracy over Batches')\n",
    "plt.xlabel('Batch')\n",
    "plt.ylabel('Accuracy(%)')\n",
    "plt.legend()\n",
    "plt.grid(True)\n",
    "plt.show()\n"
   ]
  },
  {
   "cell_type": "code",
   "execution_count": 73,
   "id": "219b7ec3-09ac-4f75-983e-efadd4c05d6a",
   "metadata": {},
   "outputs": [
    {
     "data": {
      "image/png": "[encoded data removed]",
      "text/plain": [
       "<Figure size 1000x1000 with 1 Axes>"
      ]
     },
     "metadata": {},
     "output_type": "display_data"
    }
   ],
   "source": [
    "# Confusion matrix\n",
    "confusion_matrix(classes, predictions, test_loader)"
   ]
  },
  {
   "cell_type": "markdown",
   "id": "6331a26f-5826-4e74-bc88-b7953e45994f",
   "metadata": {},
   "source": [
    "## Pre-Trained ViT Transformer Model\n",
    "\n",
    "### Run training for pre-trained ViT Model\n",
    "\n",
    "Use HuggingFace to load the tiny ViT model from its paper with its weights trained on ImageNet"
   ]
  },
  {
   "cell_type": "code",
   "execution_count": 30,
   "id": "4a7a8e84-0158-4640-b743-bd3d1ab6aa1d",
   "metadata": {},
   "outputs": [],
   "source": [
    "# training for pretrained\n",
    "def train_model(train_data, test_data, model, optimizer, criterion, epochs):\n",
    "    print(\"Starting Training...\")\n",
    "    model.train()\n",
    "    batch_losses = []\n",
    "    epoch_losses = []\n",
    "    test_accuracies = []\n",
    "    num_batches = len(train_data) # num of batches per epoch\n",
    "    \n",
    "    for epoch in range(epochs):\n",
    "        running_loss = 0.0\n",
    "        for batch_idx, (data, target) in tqdm(enumerate(train_data)):\n",
    "            data, target = data.to(device), target.to(device)\n",
    "            optimizer.zero_grad()\n",
    "            output = model(data)\n",
    "            loss = criterion(output.logits, target)\n",
    "            loss.backward()\n",
    "            optimizer.step()\n",
    "            \n",
    "            running_loss += loss.item() #running loss for epoch loss\n",
    "\n",
    "            # Output batch loss every 100 epochs (pretrained only)\n",
    "            if (batch_idx) % 100 == 0:\n",
    "                total_batch = (batch_idx+1 + (epoch)*num_batches) # batch number over epochs\n",
    "                # print batch loss\n",
    "                print(f'Batch {batch_idx} Loss: {loss.item()}')\n",
    "                batch_losses.append([total_batch, loss.item()])\n",
    "                # Get test accuracy at this step\n",
    "                accuracy, _ = test_model(test_data, model)\n",
    "                test_accuracies.append(accuracy)\n",
    "                \n",
    "        print(f'Epoch: {epoch + 1}, Average Training Loss: {running_loss/num_batches}' )\n",
    "    \n",
    "    print(\"Finished Training!\")\n",
    "    return model, batch_losses, epoch_losses, test_accuracies"
   ]
  },
  {
   "cell_type": "code",
   "execution_count": 31,
   "id": "85095bb3-d56c-4741-b2e5-d25d9758cff3",
   "metadata": {},
   "outputs": [
    {
     "name": "stderr",
     "output_type": "stream",
     "text": [
      "Some weights of ViTForImageClassification were not initialized from the model checkpoint at WinKawaks/vit-tiny-patch16-224 and are newly initialized because the shapes did not match:\n",
      "- classifier.bias: found shape torch.Size([1000]) in the checkpoint and torch.Size([10]) in the model instantiated\n",
      "- classifier.weight: found shape torch.Size([1000, 192]) in the checkpoint and torch.Size([10, 192]) in the model instantiated\n",
      "You should probably TRAIN this model on a down-stream task to be able to use it for predictions and inference.\n"
     ]
    }
   ],
   "source": [
    "# pre trained tiny ViT weights but remove the last layer and output to the 10 CIFAR classes\n",
    "model = ViTForImageClassification.from_pretrained(\"WinKawaks/vit-tiny-patch16-224\",num_labels=10, ignore_mismatched_sizes=True).to(device)"
   ]
  },
  {
   "cell_type": "code",
   "execution_count": 74,
   "id": "aa3ea7fa-4b33-47a9-9cf9-7363d9bc59a5",
   "metadata": {},
   "outputs": [
    {
     "name": "stdout",
     "output_type": "stream",
     "text": [
      "Downloading Dataset...\n",
      "Dataset Downloaded!\n"
     ]
    }
   ],
   "source": [
    "# Get dataloaders\n",
    "batch_size = 20\n",
    "image_size = 224\n",
    "# set download data to true if not downloaded already\n",
    "train_loader, test_loader = get_data(download_data = False, batch_size = batch_size, image_size = image_size)"
   ]
  },
  {
   "cell_type": "code",
   "execution_count": 37,
   "id": "a1ec9503-acd8-4200-a929-97f342ae4ba9",
   "metadata": {
    "scrolled": true
   },
   "outputs": [
    {
     "name": "stdout",
     "output_type": "stream",
     "text": [
      "Starting Training...\n"
     ]
    },
    {
     "data": {
      "application/vnd.jupyter.widget-view+json": {
       "model_id": "485cf6a22a3d409a95731c28788deb6d",
       "version_major": 2,
       "version_minor": 0
      },
      "text/plain": [
       "0it [00:00, ?it/s]"
      ]
     },
     "metadata": {},
     "output_type": "display_data"
    },
    {
     "name": "stdout",
     "output_type": "stream",
     "text": [
      "Batch 0 Loss: 3.1816375255584717\n",
      "Testing Model...\n"
     ]
    },
    {
     "data": {
      "application/vnd.jupyter.widget-view+json": {
       "model_id": "ff198400a92d4594be384b245b827811",
       "version_major": 2,
       "version_minor": 0
      },
      "text/plain": [
       "0it [00:00, ?it/s]"
      ]
     },
     "metadata": {},
     "output_type": "display_data"
    },
    {
     "name": "stdout",
     "output_type": "stream",
     "text": [
      "Test Accuracy: 10.57%\n",
      "Batch 100 Loss: 2.0676722526550293\n",
      "Testing Model...\n"
     ]
    },
    {
     "data": {
      "application/vnd.jupyter.widget-view+json": {
       "model_id": "3678088a7d704dae89a98e4f41ca5379",
       "version_major": 2,
       "version_minor": 0
      },
      "text/plain": [
       "0it [00:00, ?it/s]"
      ]
     },
     "metadata": {},
     "output_type": "display_data"
    },
    {
     "name": "stdout",
     "output_type": "stream",
     "text": [
      "Test Accuracy: 20.62%\n",
      "Batch 200 Loss: 1.625948190689087\n",
      "Testing Model...\n"
     ]
    },
    {
     "data": {
      "application/vnd.jupyter.widget-view+json": {
       "model_id": "0362b9c50af540c38c8e6317c7fec83f",
       "version_major": 2,
       "version_minor": 0
      },
      "text/plain": [
       "0it [00:00, ?it/s]"
      ]
     },
     "metadata": {},
     "output_type": "display_data"
    },
    {
     "name": "stdout",
     "output_type": "stream",
     "text": [
      "Test Accuracy: 38.09%\n",
      "Batch 300 Loss: 1.2630597352981567\n",
      "Testing Model...\n"
     ]
    },
    {
     "data": {
      "application/vnd.jupyter.widget-view+json": {
       "model_id": "7e488f56caf4419d8e08a7e476b9856f",
       "version_major": 2,
       "version_minor": 0
      },
      "text/plain": [
       "0it [00:00, ?it/s]"
      ]
     },
     "metadata": {},
     "output_type": "display_data"
    },
    {
     "name": "stdout",
     "output_type": "stream",
     "text": [
      "Test Accuracy: 51.59%\n",
      "Batch 400 Loss: 1.2550604343414307\n",
      "Testing Model...\n"
     ]
    },
    {
     "data": {
      "application/vnd.jupyter.widget-view+json": {
       "model_id": "ba90ab1b83c74e9daf48425d3e758e7e",
       "version_major": 2,
       "version_minor": 0
      },
      "text/plain": [
       "0it [00:00, ?it/s]"
      ]
     },
     "metadata": {},
     "output_type": "display_data"
    },
    {
     "name": "stdout",
     "output_type": "stream",
     "text": [
      "Test Accuracy: 60.19%\n",
      "Batch 500 Loss: 1.3294166326522827\n",
      "Testing Model...\n"
     ]
    },
    {
     "data": {
      "application/vnd.jupyter.widget-view+json": {
       "model_id": "69ef84d02ff5420db92b66d1fd76b0c6",
       "version_major": 2,
       "version_minor": 0
      },
      "text/plain": [
       "0it [00:00, ?it/s]"
      ]
     },
     "metadata": {},
     "output_type": "display_data"
    },
    {
     "name": "stdout",
     "output_type": "stream",
     "text": [
      "Test Accuracy: 66.52%\n",
      "Batch 600 Loss: 0.8406277894973755\n",
      "Testing Model...\n"
     ]
    },
    {
     "data": {
      "application/vnd.jupyter.widget-view+json": {
       "model_id": "118fa4fd79fd4035b1bd1c3d1391c0af",
       "version_major": 2,
       "version_minor": 0
      },
      "text/plain": [
       "0it [00:00, ?it/s]"
      ]
     },
     "metadata": {},
     "output_type": "display_data"
    },
    {
     "name": "stdout",
     "output_type": "stream",
     "text": [
      "Test Accuracy: 72.21%\n",
      "Batch 700 Loss: 0.7879771590232849\n",
      "Testing Model...\n"
     ]
    },
    {
     "data": {
      "application/vnd.jupyter.widget-view+json": {
       "model_id": "424a0c325e1b420b844c348e933dccd0",
       "version_major": 2,
       "version_minor": 0
      },
      "text/plain": [
       "0it [00:00, ?it/s]"
      ]
     },
     "metadata": {},
     "output_type": "display_data"
    },
    {
     "name": "stdout",
     "output_type": "stream",
     "text": [
      "Test Accuracy: 76.49%\n",
      "Batch 800 Loss: 0.5929625034332275\n",
      "Testing Model...\n"
     ]
    },
    {
     "data": {
      "application/vnd.jupyter.widget-view+json": {
       "model_id": "b1ecde7ae65f4acdba6ef1caae5cad5d",
       "version_major": 2,
       "version_minor": 0
      },
      "text/plain": [
       "0it [00:00, ?it/s]"
      ]
     },
     "metadata": {},
     "output_type": "display_data"
    },
    {
     "name": "stdout",
     "output_type": "stream",
     "text": [
      "Test Accuracy: 80.25%\n",
      "Batch 900 Loss: 0.5490941405296326\n",
      "Testing Model...\n"
     ]
    },
    {
     "data": {
      "application/vnd.jupyter.widget-view+json": {
       "model_id": "0fe9c98f239749fb961783cc67b7348f",
       "version_major": 2,
       "version_minor": 0
      },
      "text/plain": [
       "0it [00:00, ?it/s]"
      ]
     },
     "metadata": {},
     "output_type": "display_data"
    },
    {
     "name": "stdout",
     "output_type": "stream",
     "text": [
      "Test Accuracy: 82.41%\n",
      "Batch 1000 Loss: 0.561109721660614\n",
      "Testing Model...\n"
     ]
    },
    {
     "data": {
      "application/vnd.jupyter.widget-view+json": {
       "model_id": "70b3fc012f9242d1b13c06f4495f35c4",
       "version_major": 2,
       "version_minor": 0
      },
      "text/plain": [
       "0it [00:00, ?it/s]"
      ]
     },
     "metadata": {},
     "output_type": "display_data"
    },
    {
     "name": "stdout",
     "output_type": "stream",
     "text": [
      "Test Accuracy: 84.34%\n",
      "Batch 1100 Loss: 0.28445863723754883\n",
      "Testing Model...\n"
     ]
    },
    {
     "data": {
      "application/vnd.jupyter.widget-view+json": {
       "model_id": "e06e2ae033874733b0ce8b54b6eac579",
       "version_major": 2,
       "version_minor": 0
      },
      "text/plain": [
       "0it [00:00, ?it/s]"
      ]
     },
     "metadata": {},
     "output_type": "display_data"
    },
    {
     "name": "stdout",
     "output_type": "stream",
     "text": [
      "Test Accuracy: 85.3%\n",
      "Batch 1200 Loss: 0.8019267320632935\n",
      "Testing Model...\n"
     ]
    },
    {
     "data": {
      "application/vnd.jupyter.widget-view+json": {
       "model_id": "3bcfe119f7d54761982ca299aeee35b4",
       "version_major": 2,
       "version_minor": 0
      },
      "text/plain": [
       "0it [00:00, ?it/s]"
      ]
     },
     "metadata": {},
     "output_type": "display_data"
    },
    {
     "name": "stdout",
     "output_type": "stream",
     "text": [
      "Test Accuracy: 86.29%\n",
      "Batch 1300 Loss: 0.3638841211795807\n",
      "Testing Model...\n"
     ]
    },
    {
     "data": {
      "application/vnd.jupyter.widget-view+json": {
       "model_id": "c52e9f1a04aa47b098a99a667af22f45",
       "version_major": 2,
       "version_minor": 0
      },
      "text/plain": [
       "0it [00:00, ?it/s]"
      ]
     },
     "metadata": {},
     "output_type": "display_data"
    },
    {
     "name": "stdout",
     "output_type": "stream",
     "text": [
      "Test Accuracy: 87.29%\n",
      "Batch 1400 Loss: 0.6054552793502808\n",
      "Testing Model...\n"
     ]
    },
    {
     "data": {
      "application/vnd.jupyter.widget-view+json": {
       "model_id": "a894b4f295de4f44abaaca0dba185b09",
       "version_major": 2,
       "version_minor": 0
      },
      "text/plain": [
       "0it [00:00, ?it/s]"
      ]
     },
     "metadata": {},
     "output_type": "display_data"
    },
    {
     "name": "stdout",
     "output_type": "stream",
     "text": [
      "Test Accuracy: 88.2%\n",
      "Batch 1500 Loss: 0.4908858835697174\n",
      "Testing Model...\n"
     ]
    },
    {
     "data": {
      "application/vnd.jupyter.widget-view+json": {
       "model_id": "144dcaa581b545309f44ab7ddb66e0fb",
       "version_major": 2,
       "version_minor": 0
      },
      "text/plain": [
       "0it [00:00, ?it/s]"
      ]
     },
     "metadata": {},
     "output_type": "display_data"
    },
    {
     "name": "stdout",
     "output_type": "stream",
     "text": [
      "Test Accuracy: 88.78%\n",
      "Batch 1600 Loss: 0.3094870150089264\n",
      "Testing Model...\n"
     ]
    },
    {
     "data": {
      "application/vnd.jupyter.widget-view+json": {
       "model_id": "415428e7981247509e08793b67a6e6ad",
       "version_major": 2,
       "version_minor": 0
      },
      "text/plain": [
       "0it [00:00, ?it/s]"
      ]
     },
     "metadata": {},
     "output_type": "display_data"
    },
    {
     "name": "stdout",
     "output_type": "stream",
     "text": [
      "Test Accuracy: 89.35%\n",
      "Batch 1700 Loss: 0.21031565964221954\n",
      "Testing Model...\n"
     ]
    },
    {
     "data": {
      "application/vnd.jupyter.widget-view+json": {
       "model_id": "46f26c42ee6549aeaf6656ab7e4b195e",
       "version_major": 2,
       "version_minor": 0
      },
      "text/plain": [
       "0it [00:00, ?it/s]"
      ]
     },
     "metadata": {},
     "output_type": "display_data"
    },
    {
     "name": "stdout",
     "output_type": "stream",
     "text": [
      "Test Accuracy: 89.61%\n",
      "Batch 1800 Loss: 0.16568966209888458\n",
      "Testing Model...\n"
     ]
    },
    {
     "data": {
      "application/vnd.jupyter.widget-view+json": {
       "model_id": "962aa2d3aa2e4cf99eb69a5e0618ea97",
       "version_major": 2,
       "version_minor": 0
      },
      "text/plain": [
       "0it [00:00, ?it/s]"
      ]
     },
     "metadata": {},
     "output_type": "display_data"
    },
    {
     "name": "stdout",
     "output_type": "stream",
     "text": [
      "Test Accuracy: 90.43%\n",
      "Batch 1900 Loss: 0.3711242973804474\n",
      "Testing Model...\n"
     ]
    },
    {
     "data": {
      "application/vnd.jupyter.widget-view+json": {
       "model_id": "9c82c8d84ea049df87f3d8c0a4c12f30",
       "version_major": 2,
       "version_minor": 0
      },
      "text/plain": [
       "0it [00:00, ?it/s]"
      ]
     },
     "metadata": {},
     "output_type": "display_data"
    },
    {
     "name": "stdout",
     "output_type": "stream",
     "text": [
      "Test Accuracy: 90.72%\n",
      "Batch 2000 Loss: 0.6341031789779663\n",
      "Testing Model...\n"
     ]
    },
    {
     "data": {
      "application/vnd.jupyter.widget-view+json": {
       "model_id": "da4a7e1dd90b4c26b4209a9e84c5fdfb",
       "version_major": 2,
       "version_minor": 0
      },
      "text/plain": [
       "0it [00:00, ?it/s]"
      ]
     },
     "metadata": {},
     "output_type": "display_data"
    },
    {
     "name": "stdout",
     "output_type": "stream",
     "text": [
      "Test Accuracy: 90.89%\n",
      "Batch 2100 Loss: 0.26791831851005554\n",
      "Testing Model...\n"
     ]
    },
    {
     "data": {
      "application/vnd.jupyter.widget-view+json": {
       "model_id": "d475f9c8421e4b7d89047c25f4c075ac",
       "version_major": 2,
       "version_minor": 0
      },
      "text/plain": [
       "0it [00:00, ?it/s]"
      ]
     },
     "metadata": {},
     "output_type": "display_data"
    },
    {
     "name": "stdout",
     "output_type": "stream",
     "text": [
      "Test Accuracy: 91.25%\n",
      "Batch 2200 Loss: 0.3619423806667328\n",
      "Testing Model...\n"
     ]
    },
    {
     "data": {
      "application/vnd.jupyter.widget-view+json": {
       "model_id": "03c2d071bbd1421ebcddb7fefd5c08a0",
       "version_major": 2,
       "version_minor": 0
      },
      "text/plain": [
       "0it [00:00, ?it/s]"
      ]
     },
     "metadata": {},
     "output_type": "display_data"
    },
    {
     "name": "stdout",
     "output_type": "stream",
     "text": [
      "Test Accuracy: 91.16%\n",
      "Batch 2300 Loss: 0.24103376269340515\n",
      "Testing Model...\n"
     ]
    },
    {
     "data": {
      "application/vnd.jupyter.widget-view+json": {
       "model_id": "6d8fe392328441349b03af3c609e68cb",
       "version_major": 2,
       "version_minor": 0
      },
      "text/plain": [
       "0it [00:00, ?it/s]"
      ]
     },
     "metadata": {},
     "output_type": "display_data"
    },
    {
     "name": "stdout",
     "output_type": "stream",
     "text": [
      "Test Accuracy: 91.63%\n",
      "Batch 2400 Loss: 0.269955575466156\n",
      "Testing Model...\n"
     ]
    },
    {
     "data": {
      "application/vnd.jupyter.widget-view+json": {
       "model_id": "80b1694dd59d46ebb033f1f4bedc0be8",
       "version_major": 2,
       "version_minor": 0
      },
      "text/plain": [
       "0it [00:00, ?it/s]"
      ]
     },
     "metadata": {},
     "output_type": "display_data"
    },
    {
     "name": "stdout",
     "output_type": "stream",
     "text": [
      "Test Accuracy: 91.72%\n",
      "Epoch: 1, Average Training Loss: 0.6923772946491837\n"
     ]
    },
    {
     "data": {
      "application/vnd.jupyter.widget-view+json": {
       "model_id": "8cd419e77fd948329dc58bb5f27d9bdf",
       "version_major": 2,
       "version_minor": 0
      },
      "text/plain": [
       "0it [00:00, ?it/s]"
      ]
     },
     "metadata": {},
     "output_type": "display_data"
    },
    {
     "name": "stdout",
     "output_type": "stream",
     "text": [
      "Batch 0 Loss: 0.15707948803901672\n",
      "Testing Model...\n"
     ]
    },
    {
     "data": {
      "application/vnd.jupyter.widget-view+json": {
       "model_id": "8d167e498e1a449081b3de24af23db6c",
       "version_major": 2,
       "version_minor": 0
      },
      "text/plain": [
       "0it [00:00, ?it/s]"
      ]
     },
     "metadata": {},
     "output_type": "display_data"
    },
    {
     "name": "stdout",
     "output_type": "stream",
     "text": [
      "Test Accuracy: 91.9%\n",
      "Batch 100 Loss: 0.2866450250148773\n",
      "Testing Model...\n"
     ]
    },
    {
     "data": {
      "application/vnd.jupyter.widget-view+json": {
       "model_id": "7be1b420828d44cd8293a2dffc25e03c",
       "version_major": 2,
       "version_minor": 0
      },
      "text/plain": [
       "0it [00:00, ?it/s]"
      ]
     },
     "metadata": {},
     "output_type": "display_data"
    },
    {
     "name": "stdout",
     "output_type": "stream",
     "text": [
      "Test Accuracy: 92.29%\n",
      "Batch 200 Loss: 0.2099359780550003\n",
      "Testing Model...\n"
     ]
    },
    {
     "data": {
      "application/vnd.jupyter.widget-view+json": {
       "model_id": "4a910a20d61448e2ad22f20ffe051c34",
       "version_major": 2,
       "version_minor": 0
      },
      "text/plain": [
       "0it [00:00, ?it/s]"
      ]
     },
     "metadata": {},
     "output_type": "display_data"
    },
    {
     "name": "stdout",
     "output_type": "stream",
     "text": [
      "Test Accuracy: 92.43%\n",
      "Batch 300 Loss: 0.03496967628598213\n",
      "Testing Model...\n"
     ]
    },
    {
     "data": {
      "application/vnd.jupyter.widget-view+json": {
       "model_id": "f0dbbc02041447c5a723d3783b543659",
       "version_major": 2,
       "version_minor": 0
      },
      "text/plain": [
       "0it [00:00, ?it/s]"
      ]
     },
     "metadata": {},
     "output_type": "display_data"
    },
    {
     "name": "stdout",
     "output_type": "stream",
     "text": [
      "Test Accuracy: 91.98%\n",
      "Batch 400 Loss: 0.056753724813461304\n",
      "Testing Model...\n"
     ]
    },
    {
     "data": {
      "application/vnd.jupyter.widget-view+json": {
       "model_id": "927e65bab9c64764b7cf7b5d2a1aa657",
       "version_major": 2,
       "version_minor": 0
      },
      "text/plain": [
       "0it [00:00, ?it/s]"
      ]
     },
     "metadata": {},
     "output_type": "display_data"
    },
    {
     "name": "stdout",
     "output_type": "stream",
     "text": [
      "Test Accuracy: 92.91%\n",
      "Batch 500 Loss: 0.15175610780715942\n",
      "Testing Model...\n"
     ]
    },
    {
     "data": {
      "application/vnd.jupyter.widget-view+json": {
       "model_id": "e960176757194e5ebcab40250286734f",
       "version_major": 2,
       "version_minor": 0
      },
      "text/plain": [
       "0it [00:00, ?it/s]"
      ]
     },
     "metadata": {},
     "output_type": "display_data"
    },
    {
     "name": "stdout",
     "output_type": "stream",
     "text": [
      "Test Accuracy: 92.71%\n",
      "Batch 600 Loss: 0.22722463309764862\n",
      "Testing Model...\n"
     ]
    },
    {
     "data": {
      "application/vnd.jupyter.widget-view+json": {
       "model_id": "eb4af0371daf4927ae61cdcd6febef4d",
       "version_major": 2,
       "version_minor": 0
      },
      "text/plain": [
       "0it [00:00, ?it/s]"
      ]
     },
     "metadata": {},
     "output_type": "display_data"
    },
    {
     "name": "stdout",
     "output_type": "stream",
     "text": [
      "Test Accuracy: 92.81%\n",
      "Batch 700 Loss: 0.06231041997671127\n",
      "Testing Model...\n"
     ]
    },
    {
     "data": {
      "application/vnd.jupyter.widget-view+json": {
       "model_id": "5b8edd82807844e6ae3bcfa9b8d55789",
       "version_major": 2,
       "version_minor": 0
      },
      "text/plain": [
       "0it [00:00, ?it/s]"
      ]
     },
     "metadata": {},
     "output_type": "display_data"
    },
    {
     "name": "stdout",
     "output_type": "stream",
     "text": [
      "Test Accuracy: 93.41%\n",
      "Batch 800 Loss: 0.36001482605934143\n",
      "Testing Model...\n"
     ]
    },
    {
     "data": {
      "application/vnd.jupyter.widget-view+json": {
       "model_id": "084bcb1f486e4bf8aa0c8c088186e71c",
       "version_major": 2,
       "version_minor": 0
      },
      "text/plain": [
       "0it [00:00, ?it/s]"
      ]
     },
     "metadata": {},
     "output_type": "display_data"
    },
    {
     "name": "stdout",
     "output_type": "stream",
     "text": [
      "Test Accuracy: 92.97%\n",
      "Batch 900 Loss: 0.08115354925394058\n",
      "Testing Model...\n"
     ]
    },
    {
     "data": {
      "application/vnd.jupyter.widget-view+json": {
       "model_id": "10616f078c3b4faabc36378a0c6478f9",
       "version_major": 2,
       "version_minor": 0
      },
      "text/plain": [
       "0it [00:00, ?it/s]"
      ]
     },
     "metadata": {},
     "output_type": "display_data"
    },
    {
     "name": "stdout",
     "output_type": "stream",
     "text": [
      "Test Accuracy: 93.34%\n",
      "Batch 1000 Loss: 0.26975205540657043\n",
      "Testing Model...\n"
     ]
    },
    {
     "data": {
      "application/vnd.jupyter.widget-view+json": {
       "model_id": "9a89685e2657416f84e808d60770d55e",
       "version_major": 2,
       "version_minor": 0
      },
      "text/plain": [
       "0it [00:00, ?it/s]"
      ]
     },
     "metadata": {},
     "output_type": "display_data"
    },
    {
     "name": "stdout",
     "output_type": "stream",
     "text": [
      "Test Accuracy: 93.4%\n",
      "Batch 1100 Loss: 0.3580533564090729\n",
      "Testing Model...\n"
     ]
    },
    {
     "data": {
      "application/vnd.jupyter.widget-view+json": {
       "model_id": "baad3fea95ca4d308392df456cd95ae2",
       "version_major": 2,
       "version_minor": 0
      },
      "text/plain": [
       "0it [00:00, ?it/s]"
      ]
     },
     "metadata": {},
     "output_type": "display_data"
    },
    {
     "name": "stdout",
     "output_type": "stream",
     "text": [
      "Test Accuracy: 93.85%\n",
      "Batch 1200 Loss: 0.1766705960035324\n",
      "Testing Model...\n"
     ]
    },
    {
     "data": {
      "application/vnd.jupyter.widget-view+json": {
       "model_id": "05fb85076e9c4602a8d3b237992c55e1",
       "version_major": 2,
       "version_minor": 0
      },
      "text/plain": [
       "0it [00:00, ?it/s]"
      ]
     },
     "metadata": {},
     "output_type": "display_data"
    },
    {
     "name": "stdout",
     "output_type": "stream",
     "text": [
      "Test Accuracy: 93.66%\n",
      "Batch 1300 Loss: 0.22027289867401123\n",
      "Testing Model...\n"
     ]
    },
    {
     "data": {
      "application/vnd.jupyter.widget-view+json": {
       "model_id": "d50127ea1702497fb8f88c5d82c8e45d",
       "version_major": 2,
       "version_minor": 0
      },
      "text/plain": [
       "0it [00:00, ?it/s]"
      ]
     },
     "metadata": {},
     "output_type": "display_data"
    },
    {
     "name": "stdout",
     "output_type": "stream",
     "text": [
      "Test Accuracy: 93.46%\n",
      "Batch 1400 Loss: 0.32969170808792114\n",
      "Testing Model...\n"
     ]
    },
    {
     "data": {
      "application/vnd.jupyter.widget-view+json": {
       "model_id": "a0cbc6414a2f469388b66ca692f77f08",
       "version_major": 2,
       "version_minor": 0
      },
      "text/plain": [
       "0it [00:00, ?it/s]"
      ]
     },
     "metadata": {},
     "output_type": "display_data"
    },
    {
     "name": "stdout",
     "output_type": "stream",
     "text": [
      "Test Accuracy: 94.03%\n",
      "Batch 1500 Loss: 0.15669527649879456\n",
      "Testing Model...\n"
     ]
    },
    {
     "data": {
      "application/vnd.jupyter.widget-view+json": {
       "model_id": "2358b1895e4a459c81ee0efa0f5933d7",
       "version_major": 2,
       "version_minor": 0
      },
      "text/plain": [
       "0it [00:00, ?it/s]"
      ]
     },
     "metadata": {},
     "output_type": "display_data"
    },
    {
     "name": "stdout",
     "output_type": "stream",
     "text": [
      "Test Accuracy: 93.41%\n",
      "Batch 1600 Loss: 0.08075468242168427\n",
      "Testing Model...\n"
     ]
    },
    {
     "data": {
      "application/vnd.jupyter.widget-view+json": {
       "model_id": "73306a01548442e291d01aa003abaff4",
       "version_major": 2,
       "version_minor": 0
      },
      "text/plain": [
       "0it [00:00, ?it/s]"
      ]
     },
     "metadata": {},
     "output_type": "display_data"
    },
    {
     "name": "stdout",
     "output_type": "stream",
     "text": [
      "Test Accuracy: 94.28%\n",
      "Batch 1700 Loss: 0.20683734118938446\n",
      "Testing Model...\n"
     ]
    },
    {
     "data": {
      "application/vnd.jupyter.widget-view+json": {
       "model_id": "a6aa12e28d9d4dc1ba64554b9b6782f2",
       "version_major": 2,
       "version_minor": 0
      },
      "text/plain": [
       "0it [00:00, ?it/s]"
      ]
     },
     "metadata": {},
     "output_type": "display_data"
    },
    {
     "name": "stdout",
     "output_type": "stream",
     "text": [
      "Test Accuracy: 93.78%\n",
      "Batch 1800 Loss: 0.23054750263690948\n",
      "Testing Model...\n"
     ]
    },
    {
     "data": {
      "application/vnd.jupyter.widget-view+json": {
       "model_id": "48ed62fb65e44467a76778a0d0f2fff6",
       "version_major": 2,
       "version_minor": 0
      },
      "text/plain": [
       "0it [00:00, ?it/s]"
      ]
     },
     "metadata": {},
     "output_type": "display_data"
    },
    {
     "name": "stdout",
     "output_type": "stream",
     "text": [
      "Test Accuracy: 94.0%\n",
      "Batch 1900 Loss: 0.06133809685707092\n",
      "Testing Model...\n"
     ]
    },
    {
     "data": {
      "application/vnd.jupyter.widget-view+json": {
       "model_id": "16854a5139ae43eb829f12b1613b4b61",
       "version_major": 2,
       "version_minor": 0
      },
      "text/plain": [
       "0it [00:00, ?it/s]"
      ]
     },
     "metadata": {},
     "output_type": "display_data"
    },
    {
     "name": "stdout",
     "output_type": "stream",
     "text": [
      "Test Accuracy: 94.3%\n",
      "Batch 2000 Loss: 0.5244377255439758\n",
      "Testing Model...\n"
     ]
    },
    {
     "data": {
      "application/vnd.jupyter.widget-view+json": {
       "model_id": "3ed0768f11d3453a8ae5a613e49e949f",
       "version_major": 2,
       "version_minor": 0
      },
      "text/plain": [
       "0it [00:00, ?it/s]"
      ]
     },
     "metadata": {},
     "output_type": "display_data"
    },
    {
     "name": "stdout",
     "output_type": "stream",
     "text": [
      "Test Accuracy: 94.21%\n",
      "Batch 2100 Loss: 0.20865733921527863\n",
      "Testing Model...\n"
     ]
    },
    {
     "data": {
      "application/vnd.jupyter.widget-view+json": {
       "model_id": "22ab6b90fb284011ba3735f03659f057",
       "version_major": 2,
       "version_minor": 0
      },
      "text/plain": [
       "0it [00:00, ?it/s]"
      ]
     },
     "metadata": {},
     "output_type": "display_data"
    },
    {
     "name": "stdout",
     "output_type": "stream",
     "text": [
      "Test Accuracy: 94.62%\n",
      "Batch 2200 Loss: 0.047859370708465576\n",
      "Testing Model...\n"
     ]
    },
    {
     "data": {
      "application/vnd.jupyter.widget-view+json": {
       "model_id": "6aaf01c19c30476e9fc2e5ebba408b38",
       "version_major": 2,
       "version_minor": 0
      },
      "text/plain": [
       "0it [00:00, ?it/s]"
      ]
     },
     "metadata": {},
     "output_type": "display_data"
    },
    {
     "name": "stdout",
     "output_type": "stream",
     "text": [
      "Test Accuracy: 94.06%\n",
      "Batch 2300 Loss: 0.41884297132492065\n",
      "Testing Model...\n"
     ]
    },
    {
     "data": {
      "application/vnd.jupyter.widget-view+json": {
       "model_id": "7f9ed23faeb04b788780e33bb45a16e6",
       "version_major": 2,
       "version_minor": 0
      },
      "text/plain": [
       "0it [00:00, ?it/s]"
      ]
     },
     "metadata": {},
     "output_type": "display_data"
    },
    {
     "name": "stdout",
     "output_type": "stream",
     "text": [
      "Test Accuracy: 93.94%\n",
      "Batch 2400 Loss: 0.1189035177230835\n",
      "Testing Model...\n"
     ]
    },
    {
     "data": {
      "application/vnd.jupyter.widget-view+json": {
       "model_id": "b654cc88bda840e9839b289cec76ca4b",
       "version_major": 2,
       "version_minor": 0
      },
      "text/plain": [
       "0it [00:00, ?it/s]"
      ]
     },
     "metadata": {},
     "output_type": "display_data"
    },
    {
     "name": "stdout",
     "output_type": "stream",
     "text": [
      "Test Accuracy: 94.64%\n",
      "Epoch: 2, Average Training Loss: 0.18352451479770243\n",
      "Finished Training!\n"
     ]
    }
   ],
   "source": [
    "# Main \n",
    "# set the random seed\n",
    "seed = 42\n",
    "set_seed(seed)\n",
    "# hyperparameters\n",
    "epochs = 2   \n",
    "lr = 3e-6\n",
    "#model\n",
    "optimizer = torch.optim.Adam(model.parameters(), lr=lr) # Adam \n",
    "criterion = nn.CrossEntropyLoss() \n",
    "# run training\n",
    "trained_model_pre, batch_losses_pre, epoch_losses_pre, test_accuracies_pre = train_model(train_loader, test_loader, model, optimizer, criterion, epochs)"
   ]
  },
  {
   "cell_type": "markdown",
   "id": "d0e36dca-9980-46cd-b081-18f57574740c",
   "metadata": {},
   "source": [
    "### Evaluate Model\n",
    "\n",
    "Run test set on trained model and get loss and accuracy plots"
   ]
  },
  {
   "cell_type": "code",
   "execution_count": 39,
   "id": "e53c8195-14be-42a1-a672-f7eab3c18e3a",
   "metadata": {},
   "outputs": [
    {
     "name": "stdout",
     "output_type": "stream",
     "text": [
      "Testing Model...\n"
     ]
    },
    {
     "data": {
      "application/vnd.jupyter.widget-view+json": {
       "model_id": "77f1049cd3a54f14a24e9aaa0216d75d",
       "version_major": 2,
       "version_minor": 0
      },
      "text/plain": [
       "0it [00:00, ?it/s]"
      ]
     },
     "metadata": {},
     "output_type": "display_data"
    },
    {
     "name": "stdout",
     "output_type": "stream",
     "text": [
      "Test Accuracy: 94.49%\n"
     ]
    }
   ],
   "source": [
    "# evaluate model on test set\n",
    "final_accuracy_pre, predictions_pre = test_model(test_loader, trained_model_pre)"
   ]
  },
  {
   "cell_type": "code",
   "execution_count": 40,
   "id": "2056b12f-73e4-4f27-87d5-f1f91f65083a",
   "metadata": {},
   "outputs": [
    {
     "data": {
      "image/png": "[encoded data removed]",
      "text/plain": [
       "<Figure size 1000x500 with 1 Axes>"
      ]
     },
     "metadata": {},
     "output_type": "display_data"
    },
    {
     "data": {
      "image/png": "[encoded data removed]",
      "text/plain": [
       "<Figure size 1000x500 with 1 Axes>"
      ]
     },
     "metadata": {},
     "output_type": "display_data"
    }
   ],
   "source": [
    "#Plot Training Loss\n",
    "plt.figure(figsize=(10, 5))\n",
    "plt.plot(np.array(batch_losses_pre)[:,0], np.array(batch_losses_pre)[:,1], label='Training Loss')\n",
    "plt.title('Training Loss over Batches')\n",
    "plt.xlabel('Batch')\n",
    "plt.ylabel('Loss')\n",
    "plt.legend()\n",
    "plt.grid(True)\n",
    "plt.show()\n",
    "\n",
    "# Plot Test Accuracy\n",
    "plt.figure(figsize=(10, 5))\n",
    "plt.plot(np.array(batch_losses_pre)[:,0], np.array(test_accuracies_pre), label='Test Accuracy')\n",
    "plt.title('Test Accuracy over Batches')\n",
    "plt.xlabel('Batch')\n",
    "plt.ylabel('Accuracy(%)')\n",
    "plt.legend()\n",
    "plt.grid(True)\n",
    "plt.show()\n"
   ]
  },
  {
   "cell_type": "code",
   "execution_count": 75,
   "id": "4d3d520e-3a58-4dea-ad9d-71fe36aa0939",
   "metadata": {},
   "outputs": [
    {
     "data": {
      "image/png": "[encoded data removed]",
      "text/plain": [
       "<Figure size 1000x1000 with 1 Axes>"
      ]
     },
     "metadata": {},
     "output_type": "display_data"
    }
   ],
   "source": [
    "# Confusion matrix\n",
    "confusion_matrix(classes, predictions_pre, test_loader)"
   ]
  },
  {
   "cell_type": "code",
   "execution_count": null,
   "id": "acf7439e-df48-4c9e-a2c2-281cc660aafe",
   "metadata": {},
   "outputs": [],
   "source": []
  }
 ],
 "metadata": {
  "kernelspec": {
   "display_name": "Python 3 (ipykernel)",
   "language": "python",
   "name": "python3"
  },
  "language_info": {
   "codemirror_mode": {
    "name": "ipython",
    "version": 3
   },
   "file_extension": ".py",
   "mimetype": "text/x-python",
   "name": "python",
   "nbconvert_exporter": "python",
   "pygments_lexer": "ipython3",
   "version": "3.10.15"
  }
 },
 "nbformat": 4,
 "nbformat_minor": 5
}
